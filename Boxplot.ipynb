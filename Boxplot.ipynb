{
 "metadata": {
  "name": "Boxplot"
 },
 "nbformat": 3,
 "nbformat_minor": 0,
 "worksheets": [
  {
   "cells": [
    {
     "cell_type": "code",
     "collapsed": false,
     "input": [
      "import matplotlib.pyplot as plt\n",
      "import numpy as np\n",
      "\n",
      "y0 = [1, 2, 3, 5, 6, 7, 8, 9, 30, 40]\n",
      "y1 = [1, 2, 3, 4, 5, 6, 7, 8, 39, 40]\n",
      "data = []\n",
      "data.append(np.array(y0))\n",
      "data.append(np.array(y1))\n",
      "\n",
      "#fig = plt.figure()\n",
      "#ax = fig.add_subplot(111)\n",
      "\n",
      "box = plt.boxplot(data, notch=False, patch_artist=True)\n",
      "colors = ['lightblue', 'lightgreen', 'tan', 'pink']\n",
      "for patch, color in zip(box['boxes'], colors):\n",
      "    patch.set_facecolor(color)\n",
      "\n",
      "plt.show()"
     ],
     "language": "python",
     "metadata": {},
     "outputs": [
      {
       "output_type": "display_data",
       "png": "[encoded data removed]"
      }
     ],
     "prompt_number": 1
    },
    {
     "cell_type": "code",
     "collapsed": false,
     "input": [],
     "language": "python",
     "metadata": {},
     "outputs": []
    }
   ],
   "metadata": {}
  }
 ]
}